{
 "cells": [
  {
   "cell_type": "code",
   "execution_count": null,
   "id": "cd02eaf9",
   "metadata": {},
   "outputs": [],
   "source": [
    "import numpy as np\n",
    "import pandas as pd\n",
    "from sklearn.model_selection import train_test_split\n",
    "from keras.datasets import imdb\n"
   ]
  },
  {
   "cell_type": "code",
   "execution_count": null,
   "id": "10fba90f",
   "metadata": {},
   "outputs": [],
   "source": [
    "(X_train, y_train), (X_test, y_test) = imdb.load_data(num_words=10000)"
   ]
  },
  {
   "cell_type": "code",
   "execution_count": null,
   "id": "7ce553e3",
   "metadata": {},
   "outputs": [],
   "source": [
    "data = np.concatenate((X_train, X_test), axis=0)\n",
    "label = np.concatenate((y_train, y_test), axis=0)\n"
   ]
  },
  {
   "cell_type": "code",
   "execution_count": null,
   "id": "7134807f",
   "metadata": {},
   "outputs": [],
   "source": [
    "X_train.shape\n",
    "X_test.shape"
   ]
  },
  {
   "cell_type": "code",
   "execution_count": null,
   "id": "57d80588",
   "metadata": {},
   "outputs": [],
   "source": [
    "y_train.shape\n",
    "y_test.shape"
   ]
  },
  {
   "cell_type": "code",
   "execution_count": null,
   "id": "142d4551",
   "metadata": {},
   "outputs": [],
   "source": [
    "print(\"Review is \",X_train[0]) # series of no converted word to vocabulory associated with index\n",
    "print(\"Review is \",y_train[0])"
   ]
  },
  {
   "cell_type": "code",
   "execution_count": null,
   "id": "43bc792c",
   "metadata": {},
   "outputs": [],
   "source": [
    "vocab=imdb.get_word_index() # Retrieve the word index file mapping words to indices\n",
    "print(vocab)"
   ]
  },
  {
   "cell_type": "code",
   "execution_count": null,
   "id": "66bb5636",
   "metadata": {},
   "outputs": [],
   "source": [
    "y_train"
   ]
  },
  {
   "cell_type": "code",
   "execution_count": null,
   "id": "4aa38aaa",
   "metadata": {},
   "outputs": [],
   "source": [
    "y_test"
   ]
  },
  {
   "cell_type": "code",
   "execution_count": null,
   "id": "213df0ca",
   "metadata": {},
   "outputs": [],
   "source": [
    "def vectorize(sequences, dimension = 10000): # We will vectorize every review and fill it with zeros so that it contains exactly 10,000 numbers.\n",
    "# Create an all-zero matrix of shape (len(sequences), dimension)\n",
    "    results = np.zeros((len(sequences), dimension))\n",
    "    for i, sequence in enumerate(sequences):\n",
    "        results[i, sequence] = 1\n",
    "        return results"
   ]
  },
  {
   "cell_type": "code",
   "execution_count": null,
   "id": "c369ea5a",
   "metadata": {},
   "outputs": [],
   "source": [
    "test_x = data[:10000]\n",
    "test_y = label[:10000]\n",
    "train_x = data[10000:]\n",
    "train_y = label[10000:]"
   ]
  },
  {
   "cell_type": "code",
   "execution_count": null,
   "id": "9d648b9c",
   "metadata": {},
   "outputs": [],
   "source": [
    "test_x.shape"
   ]
  },
  {
   "cell_type": "code",
   "execution_count": null,
   "id": "a7d8843d",
   "metadata": {},
   "outputs": [],
   "source": [
    "train_x.shape"
   ]
  },
  {
   "cell_type": "code",
   "execution_count": null,
   "id": "540374ad",
   "metadata": {},
   "outputs": [],
   "source": [
    "train_y.shape"
   ]
  },
  {
   "cell_type": "code",
   "execution_count": null,
   "id": "4ddfc952",
   "metadata": {},
   "outputs": [],
   "source": [
    "test_y.shape"
   ]
  },
  {
   "cell_type": "code",
   "execution_count": null,
   "id": "c6b64704",
   "metadata": {},
   "outputs": [],
   "source": [
    "print(\"Categories:\", np.unique(label))\n",
    "print(\"Number of unique words:\", len(np.unique(np.hstack(data))))"
   ]
  },
  {
   "cell_type": "code",
   "execution_count": null,
   "id": "ae9feccf",
   "metadata": {},
   "outputs": [],
   "source": [
    "length = [len(i) for i in data]\n",
    "print(\"Average Review length:\", np.mean(length))\n",
    "print(\"Standard Deviation:\", round(np.std(length)))"
   ]
  },
  {
   "cell_type": "code",
   "execution_count": null,
   "id": "ce1b86cb",
   "metadata": {},
   "outputs": [],
   "source": [
    "print(\"Label:\", label[0])\n",
    "Label: 1\n",
    "print(\"Label:\", label[1])\n",
    "Label: 0\n",
    "print(data[0])"
   ]
  },
  {
   "cell_type": "code",
   "execution_count": null,
   "id": "a5876a78",
   "metadata": {},
   "outputs": [],
   "source": [
    "index = imdb.get_word_index() # word to index\n",
    "reverse_index = dict([(value, key) for (key, value) in index.items()]) # id to word\n",
    "decoded = \" \".join( [reverse_index.get(i - 3, \"#\") for i in data[0]] )\n",
    "print(decoded)"
   ]
  },
  {
   "cell_type": "code",
   "execution_count": null,
   "id": "dd63f93d",
   "metadata": {},
   "outputs": [],
   "source": [
    "data = vectorize(data)\n",
    "label = np.array(label).astype(\"float32\")\n",
    "labelDF=pd.DataFrame({'label':label})\n",
    "sns.countplot(x='label', data=labelDF)"
   ]
  },
  {
   "cell_type": "code",
   "execution_count": null,
   "id": "d6ba73c1",
   "metadata": {},
   "outputs": [],
   "source": [
    "from sklearn.model_selection import train_test_split\n",
    "X_train, X_test, y_train, y_test = train_test_split(data,label, test_size=0.20, random_state=1)"
   ]
  },
  {
   "cell_type": "code",
   "execution_count": null,
   "id": "54ca17ab",
   "metadata": {},
   "outputs": [],
   "source": [
    "from keras.utils import to_categorical\n",
    "from keras import models\n",
    "from keras import layers\n",
    "model = models.Sequential()"
   ]
  },
  {
   "cell_type": "code",
   "execution_count": null,
   "id": "55144c55",
   "metadata": {},
   "outputs": [],
   "source": [
    "model.add(layers.Dense(50, activation = \"relu\", input_shape=(10000, )))"
   ]
  },
  {
   "cell_type": "code",
   "execution_count": null,
   "id": "e25d1b74",
   "metadata": {},
   "outputs": [],
   "source": [
    "model.add(layers.Dropout(0.3, noise_shape=None, seed=None))\n",
    "model.add(layers.Dense(50, activation = \"relu\"))\n",
    "model.add(layers.Dropout(0.2, noise_shape=None, seed=None))\n",
    "model.add(layers.Dense(50, activation = \"relu\"))\n",
    "model.add(layers.Dense(1, activation = \"sigmoid\"))\n",
    "model.summary()"
   ]
  },
  {
   "cell_type": "code",
   "execution_count": null,
   "id": "e202e84b",
   "metadata": {},
   "outputs": [],
   "source": [
    "import tensorflow as tf\n",
    "callback = tf.keras.callbacks.EarlyStopping(monitor='loss', patience=3)"
   ]
  },
  {
   "cell_type": "code",
   "execution_count": null,
   "id": "ccb3bda9",
   "metadata": {},
   "outputs": [],
   "source": [
    "model.compile(\n",
    "optimizer = \"adam\",\n",
    "loss = \"binary_crossentropy\",\n",
    "metrics = [\"accuracy\"]\n",
    ")\n",
    "from sklearn.model_selection import train_test_split\n",
    "results = model.fit(\n",
    "X_train, y_train,\n",
    "epochs= 2,\n",
    "batch_size = 500,\n",
    "validation_data = (X_test, y_test),\n",
    "callbacks=[callback]\n",
    ")\n"
   ]
  },
  {
   "cell_type": "code",
   "execution_count": null,
   "id": "2ae812ef",
   "metadata": {},
   "outputs": [],
   "source": [
    "print(np.mean(results.history[\"val_accuracy\"]))"
   ]
  },
  {
   "cell_type": "code",
   "execution_count": null,
   "id": "31204c2b",
   "metadata": {},
   "outputs": [],
   "source": [
    "score = model.evaluate(X_test, y_test, batch_size=500)\n",
    "print('Test loss:', score[0])\n",
    "print('Test accuracy:', score[1])\n"
   ]
  },
  {
   "cell_type": "code",
   "execution_count": null,
   "id": "2691364b",
   "metadata": {},
   "outputs": [],
   "source": [
    "print(results.history.keys())"
   ]
  },
  {
   "cell_type": "code",
   "execution_count": null,
   "id": "0eb813b6",
   "metadata": {},
   "outputs": [],
   "source": [
    "import matplotlib.pyplot as plt\n",
    "plt.plot(results.history['accuracy'])\n",
    "plt.plot(results.history['val_accuracy'])\n",
    "plt.title('model accuracy')\n",
    "plt.ylabel('accuracy')\n",
    "plt.xlabel('epoch')\n",
    "plt.legend(['train', 'test'], loc='upper left')\n",
    "plt.show()\n",
    "plt.plot(results.history['loss'])\n",
    "plt.plot(results.history['val_loss'])\n",
    "plt.title('model loss')\n",
    "plt.ylabel('loss')\n",
    "plt.xlabel('epoch')\n",
    "plt.legend(['train', 'test'], loc='upper left')\n",
    "plt.show()"
   ]
  },
  {
   "cell_type": "code",
   "execution_count": null,
   "id": "8ea8045a",
   "metadata": {},
   "outputs": [],
   "source": []
  }
 ],
 "metadata": {
  "kernelspec": {
   "display_name": "Python 3 (ipykernel)",
   "language": "python",
   "name": "python3"
  },
  "language_info": {
   "codemirror_mode": {
    "name": "ipython",
    "version": 3
   },
   "file_extension": ".py",
   "mimetype": "text/x-python",
   "name": "python",
   "nbconvert_exporter": "python",
   "pygments_lexer": "ipython3",
   "version": "3.11.5"
  }
 },
 "nbformat": 4,
 "nbformat_minor": 5
}
